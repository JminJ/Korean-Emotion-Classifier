{
  "nbformat": 4,
  "nbformat_minor": 0,
  "metadata": {
    "colab": {
      "name": "korean_sementic_classification_utils.ipynb",
      "provenance": []
    },
    "kernelspec": {
      "name": "python3",
      "display_name": "Python 3"
    }
  },
  "cells": [
    {
      "cell_type": "markdown",
      "metadata": {
        "id": "WAMAIpjFDLkb"
      },
      "source": [
        "## Define utils"
      ]
    },
    {
      "cell_type": "code",
      "metadata": {
        "id": "vsw0NmEPDRJL"
      },
      "source": [
        "def get_grad_norm(parameters, norm_type = 2):\r\n",
        "  parameters = list(filter(lambda p: p.grad is not None, parameters))\r\n",
        "\r\n",
        "  total_norm = 0\r\n",
        "\r\n",
        "  try:\r\n",
        "    for p in parameters:\r\n",
        "      total_norm += (p.grad.data**norm_type).sum()\r\n",
        "    total_norm = total_norm ** (1. / norm_type)\r\n",
        "  except Exception as e:\r\n",
        "    print(e)\r\n",
        "  \r\n",
        "  return total_norm\r\n",
        "\r\n",
        "def get_parameter_norm(parameters, norm_type = 2):\r\n",
        "  parameters = list(filter(lambda p: p.parameters in not None, parameters))\r\n",
        "\r\n",
        "  total_norm = 0\r\n",
        "  \r\n",
        "  try:\r\n",
        "    for p in parameters:\r\n",
        "      total_norm += (p.data**norm_type).sum()\r\n",
        "    total_norm = total_norm ** (1. / norm_type)\r\n",
        "  except Exception as e:\r\n",
        "    print(e)\r\n",
        "  \r\n",
        "  return total_norm"
      ],
      "execution_count": null,
      "outputs": []
    }
  ]
}