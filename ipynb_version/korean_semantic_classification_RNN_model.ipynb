{
  "nbformat": 4,
  "nbformat_minor": 0,
  "metadata": {
    "colab": {
      "name": "korean_semantic_classification_RNN_model.ipynb",
      "provenance": []
    },
    "kernelspec": {
      "name": "python3",
      "display_name": "Python 3"
    }
  },
  "cells": [
    {
      "cell_type": "markdown",
      "metadata": {
        "id": "RBsKC_6nw9jr"
      },
      "source": [
        "## Import"
      ]
    },
    {
      "cell_type": "code",
      "metadata": {
        "id": "ANGkxC5_wCeD"
      },
      "source": [
        "import torch\r\n",
        "import torch.nn"
      ],
      "execution_count": null,
      "outputs": []
    },
    {
      "cell_type": "markdown",
      "metadata": {
        "id": "Dok5_2P8xAy1"
      },
      "source": [
        "## Define our model"
      ]
    },
    {
      "cell_type": "code",
      "metadata": {
        "id": "hjg_6a27xFTC"
      },
      "source": [
        "class rnn_model(nn.Model):\r\n",
        "  def __init__(self, input_size, hidden_size, output_size, n_laryers = 4, dropout_p = 0.15):\r\n",
        "    super().__init__()\r\n",
        "\r\n",
        "    self.input_size = input_size\r\n",
        "    self.hidden_size = hidden_size\r\n",
        "    self.output_size = output_size\r\n",
        "    self.n_layers = n_layers\r\n",
        "    self.dropout_p = dropout_p\r\n",
        "\r\n",
        "    self.embedding = nn.Embedding(self.input_size, self.hidden_size)\r\n",
        "    self.gru = nn.gru(input_size = self.hidden_size, \r\n",
        "                      hidden_size = self.hidden_size,\r\n",
        "                      dropput = self.dropout_p,\r\n",
        "                      n_layers = self.n_layers,\r\n",
        "                      bidirectional = True\r\n",
        "                      )\r\n",
        "    self.relu = nn.Relu()\r\n",
        "    self.log_softmax = nn.Log_Softmax()\r\n",
        "    self.linear1 = nn.Linear(self.hidden_size * 2, self.hidden_size)\r\n",
        "    self.linear2 = nn.Linear(self.hidden_size, self.output_size)\r\n",
        "\r\n",
        "  def forward(input, hidden):\r\n",
        "    embd_input = self.embedding(input)\r\n",
        "    rnn_output, rnn_hidden = self.gru(embd_input)\r\n",
        "    rnn_output = nn.Relu(rnn_output)\r\n",
        "    rnn_output = self.linear1(rnn_output)\r\n",
        "    rnn_output = self.linear2(rnn_output)\r\n",
        "    log_soft_output = self.log_softmax(rnn_output)\r\n",
        "\r\n",
        "    return log_soft_output"
      ],
      "execution_count": null,
      "outputs": []
    }
  ]
}